{
 "cells": [
  {
   "cell_type": "code",
   "execution_count": 1,
   "metadata": {},
   "outputs": [],
   "source": [
    "from Module.F17122018ML import F2020ML\n",
    "import numpy as np\n",
    "import pandas as pd"
   ]
  },
  {
   "cell_type": "code",
   "execution_count": 3,
   "metadata": {},
   "outputs": [
    {
     "ename": "NameError",
     "evalue": "name 'ix_model_load' is not defined",
     "output_type": "error",
     "traceback": [
      "\u001b[1;31m---------------------------------------------------------------------------\u001b[0m",
      "\u001b[1;31mNameError\u001b[0m                                 Traceback (most recent call last)",
      "\u001b[1;32m<ipython-input-3-6ff7bff0d242>\u001b[0m in \u001b[0;36m<module>\u001b[1;34m\u001b[0m\n\u001b[0;32m      1\u001b[0m \u001b[0mloc_dataframe\u001b[0m \u001b[1;33m=\u001b[0m \u001b[1;34mr'Data/Data Excel'\u001b[0m\u001b[1;33m\u001b[0m\u001b[1;33m\u001b[0m\u001b[0m\n\u001b[0;32m      2\u001b[0m \u001b[0mloc_datasave\u001b[0m \u001b[1;33m=\u001b[0m \u001b[1;34mr'Data/Data Excel'\u001b[0m\u001b[1;33m\u001b[0m\u001b[1;33m\u001b[0m\u001b[0m\n\u001b[1;32m----> 3\u001b[1;33m \u001b[0mload_Mdl\u001b[0m \u001b[1;33m=\u001b[0m \u001b[0mix_model_load\u001b[0m\u001b[1;33m(\u001b[0m\u001b[1;34m'Data/Data Model/L6n7_SVRnoNDVI_rbf.pkl'\u001b[0m\u001b[1;33m)\u001b[0m\u001b[1;33m\u001b[0m\u001b[1;33m\u001b[0m\u001b[0m\n\u001b[0m",
      "\u001b[1;31mNameError\u001b[0m: name 'ix_model_load' is not defined"
     ]
    }
   ],
   "source": [
    "loc_dataframe = r'Data/Data Excel'\n",
    "loc_datasave = r'Data/Data Excel'\n",
    "load_Mdl = ix_model_load('Data/Data Model/L6n7_SVRnoNDVI_rbf.pkl')"
   ]
  },
  {
   "cell_type": "code",
   "execution_count": 2,
   "metadata": {},
   "outputs": [
    {
     "ename": "NameError",
     "evalue": "name 'loc_dataframe' is not defined",
     "output_type": "error",
     "traceback": [
      "\u001b[1;31m---------------------------------------------------------------------------\u001b[0m",
      "\u001b[1;31mNameError\u001b[0m                                 Traceback (most recent call last)",
      "\u001b[1;32m<ipython-input-2-3b3d29794132>\u001b[0m in \u001b[0;36m<module>\u001b[1;34m\u001b[0m\n\u001b[0;32m      1\u001b[0m \u001b[1;34m\"\"\"Load Dataframe\"\"\"\u001b[0m\u001b[1;33m\u001b[0m\u001b[1;33m\u001b[0m\u001b[0m\n\u001b[1;32m----> 2\u001b[1;33m \u001b[0mloadDF\u001b[0m \u001b[1;33m=\u001b[0m \u001b[0mpd\u001b[0m\u001b[1;33m.\u001b[0m\u001b[0mread_excel\u001b[0m\u001b[1;33m(\u001b[0m\u001b[0mloc_dataframe\u001b[0m \u001b[1;33m+\u001b[0m \u001b[1;34m'/Frci_Line_6_BALANCE.xlsx'\u001b[0m\u001b[1;33m)\u001b[0m\u001b[1;33m\u001b[0m\u001b[1;33m\u001b[0m\u001b[0m\n\u001b[0m\u001b[0;32m      3\u001b[0m \u001b[0mloadDF\u001b[0m\u001b[1;33m.\u001b[0m\u001b[0mhead\u001b[0m\u001b[1;33m(\u001b[0m\u001b[1;36m4\u001b[0m\u001b[1;33m)\u001b[0m\u001b[1;33m\u001b[0m\u001b[1;33m\u001b[0m\u001b[0m\n",
      "\u001b[1;31mNameError\u001b[0m: name 'loc_dataframe' is not defined"
     ]
    }
   ],
   "source": [
    "\"\"\"Load Dataframe\"\"\"\n",
    "loadDF = pd.read_excel(loc_dataframe + '/Frci_Line_6_BALANCE.xlsx')\n",
    "loadDF.head(4)"
   ]
  },
  {
   "cell_type": "code",
   "execution_count": null,
   "metadata": {},
   "outputs": [],
   "source": [
    "select_col = ['Band_2', 'Band_3', 'Band_4', 'Band_5']\n",
    "select_row = 'frci5m'\n",
    "dfx = pd.DataFrame(loadDF, columns=select_col)\n",
    "dfy = np.asarray(loadDF[select_row])"
   ]
  },
  {
   "cell_type": "code",
   "execution_count": null,
   "metadata": {},
   "outputs": [],
   "source": [
    "dfy_pred = load_Mdl.predict(dfx)\n",
    "dfy_pred[dfy_pred < 0] = 0.00\n",
    "dfy_pred[dfy_pred > 1] = 1.00\n",
    "Model_RMSE = F2020ML.F2020_RMSE(dfy, dfy_pred)\n",
    "Model_R2 = F2020ML.F2020_RSQRT(dfy, dfy_pred)\n",
    "F2020ML.plot_data(dfy_pred, dfy)\n",
    "print(\"RMSE:\", Model_RMSE, \"...\", \"R2:\", Model_R2)"
   ]
  },
  {
   "cell_type": "code",
   "execution_count": null,
   "metadata": {},
   "outputs": [],
   "source": [
    "\"\"\"Saved Prediction Model to New Data Frame\"\"\"\n",
    "df1 = pd.DataFrame({\"Aktual\": dfy})\n",
    "df2 = pd.DataFrame({\"Prediksi\": dfy_pred})\n",
    "# df3 = pd.DataFrame({\"Prediksi\": dfy_pred_RFR})\n",
    "df_model = pd.concat([df1, df2], axis=1)\n",
    "# df_model_RFR = pd.concat((df1, df3), axis=1)\n",
    "df_model.to_excel(loc_datasave + \"/SVR_RBF_Line_6_BALANCE_noNDVI.xlsx\")"
   ]
  }
 ],
 "metadata": {
  "kernelspec": {
   "display_name": "Python 3",
   "language": "python",
   "name": "python3"
  },
  "language_info": {
   "codemirror_mode": {
    "name": "ipython",
    "version": 3
   },
   "file_extension": ".py",
   "mimetype": "text/x-python",
   "name": "python",
   "nbconvert_exporter": "python",
   "pygments_lexer": "ipython3",
   "version": "3.7.6"
  }
 },
 "nbformat": 4,
 "nbformat_minor": 4
}
