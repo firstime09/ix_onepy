{
 "cells": [
  {
   "cell_type": "code",
   "execution_count": 25,
   "metadata": {},
   "outputs": [],
   "source": [
    "import os, glob, joblib\n",
    "import numpy as np\n",
    "import pandas as pd\n",
    "from sklearn.svm import SVR, SVC\n",
    "from matplotlib import pyplot as plt\n",
    "from sklearn.preprocessing import StandardScaler, MinMaxScaler\n",
    "from sklearn.ensemble import RandomForestRegressor\n",
    "from sklearn.model_selection import train_test_split"
   ]
  },
  {
   "cell_type": "code",
   "execution_count": 26,
   "metadata": {},
   "outputs": [],
   "source": [
    "class JuPyter_ML:\n",
    "    def save_model(model, path):\n",
    "        with open(path, \"wb\") as mdl:\n",
    "            return joblib.dump(model, mdl)\n",
    "    \n",
    "    def load_model(path):\n",
    "        with open(path, \"rb\") as mdl:\n",
    "            return joblib.load(mdl)\n",
    "        \n",
    "    def plot_data(dataY, dataX):\n",
    "        plt.plot(dataX, dataY)\n",
    "        plt.scatter(dataX, dataY, edgecolors='none', s=30, label='Data')\n",
    "        plt.title('Data Visualization')\n",
    "        plt.xlabel('Data X')\n",
    "        plt.ylabel('Data Y')\n",
    "        plt.legend()\n",
    "        plt.show()\n",
    "        \n",
    "    def Model_RMSE(actual, predic):\n",
    "        rmse = np.sqrt(((actual - predic)**2).mean())\n",
    "        return rmse\n",
    "    \n",
    "    def Model_R2(actual, predic):\n",
    "        rsqrt = (1 - sum((actual - predic)**2) / sum((actual - actual.mean(axis=0))**2))\n",
    "        return rsqrt\n",
    "    \n",
    "    def RFR_Model(dataX, dataY, tsize, rstate):\n",
    "        X_train, X_test, y_train, y_test = train_test_split(dataX, dataY, test_size=tsize, random_state=rstate)\n",
    "        ###\n",
    "        best_score = 0\n",
    "        for n_estimate in [150, 200, 250, 300, 350, 400, 450, 500]:\n",
    "            clfRFR = RandomForestRegressor(n_estimators=n_estimate, random_state=rstate)\n",
    "            clfRFR.fit(X_train, y_train)\n",
    "            score = clfRFR.score(X_test, y_test)\n",
    "            if score > best_score:\n",
    "                best_score = score\n",
    "                best_esti = n_estimate\n",
    "        clfRFR_Model = RandomForestRegressor(n_estimators=best_esti, random_state=rstate)\n",
    "        clfRFR_Model.fit(X_train, y_train)\n",
    "        return(clfRFR_Model)\n",
    "    \n",
    "    def SVR_Model(dataX, dataY, tsize, rstate, ker):\n",
    "        X_train, X_test, y_train, y_test = train_test_split(dataX, dataY, test_size=tsize, random_state=rstate)\n",
    "        ###\n",
    "        best_score = 0\n",
    "        for C in [1, 2, 3, 4, 5, 6, 7, 8, 9, 10]:\n",
    "            for gamma in [0.01, 0.1, 0.2, 0.3, 0.4, 0.5, 0.7, 1]:\n",
    "                for epsilon in [0.001, 0.01, 0.1, 0.2, 0.3, 0.4, 0.5]:\n",
    "                    clfSVR = SVR(kernel=ker, C=C, gamma=gamma, epsilon=epsilon)\n",
    "                    clfSVR.fit(X_train, y_train)\n",
    "                    score = clfSVR.score(X_test, y_test)\n",
    "                    if score > best_score:\n",
    "                        best_score = score\n",
    "                        best_C = C\n",
    "                        best_gam = gamma\n",
    "                        best_eps = epsilon\n",
    "        clfSVR_Model = SVR(kernel=ker, C=best_C, gamma=best_gam, epsilon=best_eps)\n",
    "        clfSVR_Model.fit(X_train, y_train)\n",
    "        return(clfSVR_Model)"
   ]
  },
  {
   "cell_type": "code",
   "execution_count": 27,
   "metadata": {},
   "outputs": [
    {
     "data": {
      "text/html": [
       "<div>\n",
       "<style scoped>\n",
       "    .dataframe tbody tr th:only-of-type {\n",
       "        vertical-align: middle;\n",
       "    }\n",
       "\n",
       "    .dataframe tbody tr th {\n",
       "        vertical-align: top;\n",
       "    }\n",
       "\n",
       "    .dataframe thead th {\n",
       "        text-align: right;\n",
       "    }\n",
       "</style>\n",
       "<table border=\"1\" class=\"dataframe\">\n",
       "  <thead>\n",
       "    <tr style=\"text-align: right;\">\n",
       "      <th></th>\n",
       "      <th>frci5m</th>\n",
       "      <th>Band_2</th>\n",
       "      <th>Band_3</th>\n",
       "      <th>Band_4</th>\n",
       "      <th>Band_5</th>\n",
       "      <th>B_NDVI</th>\n",
       "      <th>cluster</th>\n",
       "    </tr>\n",
       "  </thead>\n",
       "  <tbody>\n",
       "    <tr>\n",
       "      <th>0</th>\n",
       "      <td>0.000</td>\n",
       "      <td>0.099</td>\n",
       "      <td>0.085</td>\n",
       "      <td>0.066</td>\n",
       "      <td>0.305</td>\n",
       "      <td>0.644205</td>\n",
       "      <td>1</td>\n",
       "    </tr>\n",
       "    <tr>\n",
       "      <th>1</th>\n",
       "      <td>0.000</td>\n",
       "      <td>0.097</td>\n",
       "      <td>0.094</td>\n",
       "      <td>0.063</td>\n",
       "      <td>0.351</td>\n",
       "      <td>0.695652</td>\n",
       "      <td>1</td>\n",
       "    </tr>\n",
       "    <tr>\n",
       "      <th>2</th>\n",
       "      <td>0.000</td>\n",
       "      <td>0.118</td>\n",
       "      <td>0.116</td>\n",
       "      <td>0.112</td>\n",
       "      <td>0.044</td>\n",
       "      <td>-0.435897</td>\n",
       "      <td>1</td>\n",
       "    </tr>\n",
       "    <tr>\n",
       "      <th>3</th>\n",
       "      <td>0.004</td>\n",
       "      <td>0.097</td>\n",
       "      <td>0.091</td>\n",
       "      <td>0.057</td>\n",
       "      <td>0.432</td>\n",
       "      <td>0.766871</td>\n",
       "      <td>1</td>\n",
       "    </tr>\n",
       "  </tbody>\n",
       "</table>\n",
       "</div>"
      ],
      "text/plain": [
       "   frci5m  Band_2  Band_3  Band_4  Band_5    B_NDVI  cluster\n",
       "0   0.000   0.099   0.085   0.066   0.305  0.644205        1\n",
       "1   0.000   0.097   0.094   0.063   0.351  0.695652        1\n",
       "2   0.000   0.118   0.116   0.112   0.044 -0.435897        1\n",
       "3   0.004   0.097   0.091   0.057   0.432  0.766871        1"
      ]
     },
     "execution_count": 27,
     "metadata": {},
     "output_type": "execute_result"
    }
   ],
   "source": [
    "dir_location = \"Data/Data Excel\"\n",
    "read_data = pd.read_excel(dir_location + \"/Line_6_7_Join_69.16.xlsx\")\n",
    "read_data.head(4)"
   ]
  },
  {
   "cell_type": "code",
   "execution_count": 36,
   "metadata": {
    "scrolled": true
   },
   "outputs": [
    {
     "name": "stdout",
     "output_type": "stream",
     "text": [
      "SVR(C=10, cache_size=200, coef0=0.0, degree=3, epsilon=0.01, gamma=1,\n",
      "    kernel='rbf', max_iter=-1, shrinking=True, tol=0.001, verbose=False)\n",
      "RMSE: 0.18340502382729928 ... R2: 0.6232280958463752\n"
     ]
    }
   ],
   "source": [
    "select_col = ['Band_2', 'Band_3', 'Band_4', 'Band_5']\n",
    "select_row = 'frci5m'\n",
    "dfx = pd.DataFrame(read_data, columns=select_col)\n",
    "dfy = np.asarray(read_data[select_row])\n",
    "\n",
    "clf_model = JuPyter_ML.SVR_Model(dfx, dfy, tsize=0.2, rstate=5, ker='rbf')\n",
    "clf_pred = clf_model.predict(dfx)\n",
    "rmse_model = JuPyter_ML.Model_RMSE(dfy, clf_pred)\n",
    "r2_model = JuPyter_ML.Model_R2(dfy, clf_pred)\n",
    "print(clf_model)\n",
    "print('RMSE:', rmse_model, '...', 'R2:', r2_model)"
   ]
  },
  {
   "cell_type": "markdown",
   "metadata": {},
   "source": [
    "## Explanation\n",
    "SVR parm: Kernel=rbf, C=10, epsilon=0.01, gamma=1\n",
    "Try one using NDVI in Line_6_7 data we get the RMSE: 0.178663 and R2: 0.642456\n",
    "Try two without NDVI RMSE: 0.183405 and R2: 0.623228\n",
    "\n",
    "SVR parm: Kernel=linear, C=10, epsilon=0.01, gamma=0.01\n",
    "Try one using NDVI in Line_6_7 data we get the RMSE: 0.18868 and R2: 0.60122\n",
    "Try two without NDVI RMSE: 0.189296 and R2: 0.5986331\n"
   ]
  },
  {
   "cell_type": "code",
   "execution_count": 34,
   "metadata": {},
   "outputs": [
    {
     "name": "stdout",
     "output_type": "stream",
     "text": [
      "[1.059053400622893, -0.14655698633285086]\n"
     ]
    },
    {
     "data": {
      "image/png": "[encoded data removed]",
      "text/plain": [
       "<Figure size 432x288 with 1 Axes>"
      ]
     },
     "metadata": {
      "needs_background": "light"
     },
     "output_type": "display_data"
    }
   ],
   "source": [
    "print([clf_pred.max(), clf_pred.min()])\n",
    "JuPyter_ML.plot_data(clf_pred, dfy)"
   ]
  },
  {
   "cell_type": "code",
   "execution_count": 37,
   "metadata": {},
   "outputs": [],
   "source": [
    "save_location = 'Data/Data Model'\n",
    "JuPyter_ML.save_model(clf_model, (save_location + '/L6n7_SVRnoNDVI_rbf.pkl'))"
   ]
  }
 ],
 "metadata": {
  "kernelspec": {
   "display_name": "Python 3",
   "language": "python",
   "name": "python3"
  },
  "language_info": {
   "codemirror_mode": {
    "name": "ipython",
    "version": 3
   },
   "file_extension": ".py",
   "mimetype": "text/x-python",
   "name": "python",
   "nbconvert_exporter": "python",
   "pygments_lexer": "ipython3",
   "version": "3.6.10"
  }
 },
 "nbformat": 4,
 "nbformat_minor": 4
}
