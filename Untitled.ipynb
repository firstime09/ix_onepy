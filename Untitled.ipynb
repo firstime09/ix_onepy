{
 "cells": [
  {
   "cell_type": "code",
   "execution_count": 1,
   "metadata": {},
   "outputs": [],
   "source": [
    "import numpy as np\n",
    "from osgeo import gdal, gdal_array"
   ]
  },
  {
   "cell_type": "code",
   "execution_count": null,
   "metadata": {},
   "outputs": [],
   "source": []
  },
  {
   "cell_type": "code",
   "execution_count": 4,
   "metadata": {},
   "outputs": [],
   "source": [
    "def create_matching_dataset(in_dataset, out_path,\n",
    "                            format=\"GTiff\", bands=1, datatype = None):\n",
    "    \"\"\"\n",
    "    Creates an empty gdal dataset with the same dimensions, projection and geotransform as in_dataset.\n",
    "    Defaults to 1 band.\n",
    "    Datatype is set from the first layer of in_dataset if unspecified\n",
    "    Parameters\n",
    "    ----------\n",
    "    in_dataset\n",
    "        A gdal.Dataset object\n",
    "    out_path\n",
    "        The path to save the copied dataset to\n",
    "    format\n",
    "        The Ggal image format. Defaults to geotiff (\"GTiff\"); for a full list, see https://gdal.org/drivers/raster/index.html\n",
    "    bands\n",
    "        The number of bands in the dataset. Defaults to one.\n",
    "    datatype\n",
    "        The datatype of the returned dataset. See the introduction for this module.\n",
    "    Returns\n",
    "    -------\n",
    "    An gdal.Dataset of the new, empty dataset that is ready for writing.\n",
    "    \"\"\"\n",
    "    driver = gdal.GetDriverByName(format)\n",
    "    if datatype is None:\n",
    "        datatype = in_dataset.GetRasterBand(1).DataType\n",
    "        out_dataset = driver.Create(out_path,\n",
    "                                xsize=in_dataset.RasterXSize,\n",
    "                                ysize=in_dataset.RasterYSize,\n",
    "                                bands=bands,\n",
    "                                eType=datatype)\n",
    "    out_dataset.SetGeoTransform(in_dataset.GetGeoTransform())\n",
    "    out_dataset.SetProjection(in_dataset.GetProjection())\n",
    "    return out_dataset\n",
    "\n",
    "def calc_ndvi(raster_path, output_path):\n",
    "    raster = gdal.Open(raster_path)\n",
    "    out_raster = create_matching_dataset(raster, output_path, datatype=gdal.GDT_Float32)\n",
    "    array = raster.GetVirtualMemArray()\n",
    "    out_array = out_raster.GetVirtualMemArray(eAccess=gdal.GA_Update)\n",
    "    R = array[2, ...]\n",
    "    I = array[3, ...]\n",
    "    out_array[...] = (R-I)/(R+I)\n",
    "\n",
    "    out_array[...] = np.where(out_array == -2147483648, 0, out_array)\n",
    "\n",
    "    R = None\n",
    "    I = None\n",
    "    array = None\n",
    "    out_array = None\n",
    "    raster = None\n",
    "    out_raster = None"
   ]
  },
  {
   "cell_type": "code",
   "execution_count": 5,
   "metadata": {},
   "outputs": [
    {
     "ename": "UnboundLocalError",
     "evalue": "local variable 'out_dataset' referenced before assignment",
     "output_type": "error",
     "traceback": [
      "\u001b[1;31m---------------------------------------------------------------------------\u001b[0m",
      "\u001b[1;31mUnboundLocalError\u001b[0m                         Traceback (most recent call last)",
      "\u001b[1;32m<ipython-input-5-14198267d69e>\u001b[0m in \u001b[0;36m<module>\u001b[1;34m\u001b[0m\n\u001b[0;32m      2\u001b[0m \u001b[0mout_path\u001b[0m \u001b[1;33m=\u001b[0m \u001b[1;34mr\"G:\\My Drive\\Shared TIF File\\Forests2020\\SAHID\\FELLIKS\\TESTING FILE\\TIF TEST\\Brick Raster 2\\T1NDVI\\Result\"\u001b[0m\u001b[1;33m\u001b[0m\u001b[1;33m\u001b[0m\u001b[0m\n\u001b[0;32m      3\u001b[0m \u001b[1;33m\u001b[0m\u001b[0m\n\u001b[1;32m----> 4\u001b[1;33m \u001b[0mcalc_ndvi\u001b[0m\u001b[1;33m(\u001b[0m\u001b[0mras_path\u001b[0m\u001b[1;33m,\u001b[0m \u001b[0mout_path\u001b[0m\u001b[1;33m)\u001b[0m\u001b[1;33m\u001b[0m\u001b[1;33m\u001b[0m\u001b[0m\n\u001b[0m",
      "\u001b[1;32m<ipython-input-4-299548ce7022>\u001b[0m in \u001b[0;36mcalc_ndvi\u001b[1;34m(raster_path, output_path)\u001b[0m\n\u001b[0;32m     35\u001b[0m \u001b[1;32mdef\u001b[0m \u001b[0mcalc_ndvi\u001b[0m\u001b[1;33m(\u001b[0m\u001b[0mraster_path\u001b[0m\u001b[1;33m,\u001b[0m \u001b[0moutput_path\u001b[0m\u001b[1;33m)\u001b[0m\u001b[1;33m:\u001b[0m\u001b[1;33m\u001b[0m\u001b[1;33m\u001b[0m\u001b[0m\n\u001b[0;32m     36\u001b[0m     \u001b[0mraster\u001b[0m \u001b[1;33m=\u001b[0m \u001b[0mgdal\u001b[0m\u001b[1;33m.\u001b[0m\u001b[0mOpen\u001b[0m\u001b[1;33m(\u001b[0m\u001b[0mraster_path\u001b[0m\u001b[1;33m)\u001b[0m\u001b[1;33m\u001b[0m\u001b[1;33m\u001b[0m\u001b[0m\n\u001b[1;32m---> 37\u001b[1;33m     \u001b[0mout_raster\u001b[0m \u001b[1;33m=\u001b[0m \u001b[0mcreate_matching_dataset\u001b[0m\u001b[1;33m(\u001b[0m\u001b[0mraster\u001b[0m\u001b[1;33m,\u001b[0m \u001b[0moutput_path\u001b[0m\u001b[1;33m,\u001b[0m \u001b[0mdatatype\u001b[0m\u001b[1;33m=\u001b[0m\u001b[0mgdal\u001b[0m\u001b[1;33m.\u001b[0m\u001b[0mGDT_Float32\u001b[0m\u001b[1;33m)\u001b[0m\u001b[1;33m\u001b[0m\u001b[1;33m\u001b[0m\u001b[0m\n\u001b[0m\u001b[0;32m     38\u001b[0m     \u001b[0marray\u001b[0m \u001b[1;33m=\u001b[0m \u001b[0mraster\u001b[0m\u001b[1;33m.\u001b[0m\u001b[0mGetVirtualMemArray\u001b[0m\u001b[1;33m(\u001b[0m\u001b[1;33m)\u001b[0m\u001b[1;33m\u001b[0m\u001b[1;33m\u001b[0m\u001b[0m\n\u001b[0;32m     39\u001b[0m     \u001b[0mout_array\u001b[0m \u001b[1;33m=\u001b[0m \u001b[0mout_raster\u001b[0m\u001b[1;33m.\u001b[0m\u001b[0mGetVirtualMemArray\u001b[0m\u001b[1;33m(\u001b[0m\u001b[0meAccess\u001b[0m\u001b[1;33m=\u001b[0m\u001b[0mgdal\u001b[0m\u001b[1;33m.\u001b[0m\u001b[0mGA_Update\u001b[0m\u001b[1;33m)\u001b[0m\u001b[1;33m\u001b[0m\u001b[1;33m\u001b[0m\u001b[0m\n",
      "\u001b[1;32m<ipython-input-4-299548ce7022>\u001b[0m in \u001b[0;36mcreate_matching_dataset\u001b[1;34m(in_dataset, out_path, format, bands, datatype)\u001b[0m\n\u001b[0;32m     29\u001b[0m                                 \u001b[0mbands\u001b[0m\u001b[1;33m=\u001b[0m\u001b[0mbands\u001b[0m\u001b[1;33m,\u001b[0m\u001b[1;33m\u001b[0m\u001b[1;33m\u001b[0m\u001b[0m\n\u001b[0;32m     30\u001b[0m                                 eType=datatype)\n\u001b[1;32m---> 31\u001b[1;33m     \u001b[0mout_dataset\u001b[0m\u001b[1;33m.\u001b[0m\u001b[0mSetGeoTransform\u001b[0m\u001b[1;33m(\u001b[0m\u001b[0min_dataset\u001b[0m\u001b[1;33m.\u001b[0m\u001b[0mGetGeoTransform\u001b[0m\u001b[1;33m(\u001b[0m\u001b[1;33m)\u001b[0m\u001b[1;33m)\u001b[0m\u001b[1;33m\u001b[0m\u001b[1;33m\u001b[0m\u001b[0m\n\u001b[0m\u001b[0;32m     32\u001b[0m     \u001b[0mout_dataset\u001b[0m\u001b[1;33m.\u001b[0m\u001b[0mSetProjection\u001b[0m\u001b[1;33m(\u001b[0m\u001b[0min_dataset\u001b[0m\u001b[1;33m.\u001b[0m\u001b[0mGetProjection\u001b[0m\u001b[1;33m(\u001b[0m\u001b[1;33m)\u001b[0m\u001b[1;33m)\u001b[0m\u001b[1;33m\u001b[0m\u001b[1;33m\u001b[0m\u001b[0m\n\u001b[0;32m     33\u001b[0m     \u001b[1;32mreturn\u001b[0m \u001b[0mout_dataset\u001b[0m\u001b[1;33m\u001b[0m\u001b[1;33m\u001b[0m\u001b[0m\n",
      "\u001b[1;31mUnboundLocalError\u001b[0m: local variable 'out_dataset' referenced before assignment"
     ]
    }
   ],
   "source": [
    "ras_path = r\"G:\\My Drive\\Shared TIF File\\Forests2020\\SAHID\\FELLIKS\\TESTING FILE\\TIF TEST\\Brick Raster 2\\T1NDVI\"\n",
    "out_path = r\"G:\\My Drive\\Shared TIF File\\Forests2020\\SAHID\\FELLIKS\\TESTING FILE\\TIF TEST\\Brick Raster 2\\T1NDVI\\Result\"\n",
    "ifap\n",
    "calc_ndvi(ras_path, out_path)"
   ]
  },
  {
   "cell_type": "code",
   "execution_count": null,
   "metadata": {},
   "outputs": [],
   "source": []
  }
 ],
 "metadata": {
  "kernelspec": {
   "display_name": "Python 3",
   "language": "python",
   "name": "python3"
  },
  "language_info": {
   "codemirror_mode": {
    "name": "ipython",
    "version": 3
   },
   "file_extension": ".py",
   "mimetype": "text/x-python",
   "name": "python",
   "nbconvert_exporter": "python",
   "pygments_lexer": "ipython3",
   "version": "3.7.6"
  }
 },
 "nbformat": 4,
 "nbformat_minor": 4
}
