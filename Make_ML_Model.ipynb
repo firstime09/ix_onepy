{
 "cells": [
  {
   "cell_type": "code",
   "execution_count": 1,
   "metadata": {},
   "outputs": [],
   "source": [
    "from ifapp.love_dframe import ifapp_df\n",
    "from ifapp.analize_data import ifapp_Mlearn, ifapp_raster, rasterio\n",
    "from ifapp.love_dframe import pkl_model_load, pkl_model_save, pd, np\n",
    "from rasterio import plot"
   ]
  },
  {
   "cell_type": "code",
   "execution_count": 2,
   "metadata": {},
   "outputs": [],
   "source": [
    "dir_dataframe = r'D:\\ix_onepy\\Data\\Data Excel'\n",
    "dir_save_model = r'D:\\ix_onepy\\Data\\Data Model'\n",
    "dir_save_dataframe = r'D:\\ix_onepy\\Data\\Data Excel'"
   ]
  },
  {
   "cell_type": "code",
   "execution_count": 3,
   "metadata": {},
   "outputs": [
    {
     "data": {
      "text/html": [
       "<div>\n",
       "<style scoped>\n",
       "    .dataframe tbody tr th:only-of-type {\n",
       "        vertical-align: middle;\n",
       "    }\n",
       "\n",
       "    .dataframe tbody tr th {\n",
       "        vertical-align: top;\n",
       "    }\n",
       "\n",
       "    .dataframe thead th {\n",
       "        text-align: right;\n",
       "    }\n",
       "</style>\n",
       "<table border=\"1\" class=\"dataframe\">\n",
       "  <thead>\n",
       "    <tr style=\"text-align: right;\">\n",
       "      <th></th>\n",
       "      <th>FRCI</th>\n",
       "      <th>B2</th>\n",
       "      <th>B3</th>\n",
       "      <th>B4</th>\n",
       "      <th>B5</th>\n",
       "      <th>B6</th>\n",
       "      <th>B_NDVI</th>\n",
       "      <th>SAVI_.5</th>\n",
       "    </tr>\n",
       "  </thead>\n",
       "  <tbody>\n",
       "    <tr>\n",
       "      <th>0</th>\n",
       "      <td>0.0</td>\n",
       "      <td>0.120041</td>\n",
       "      <td>0.103955</td>\n",
       "      <td>0.097053</td>\n",
       "      <td>0.143030</td>\n",
       "      <td>0.072213</td>\n",
       "      <td>0.191504</td>\n",
       "      <td>0.093186</td>\n",
       "    </tr>\n",
       "    <tr>\n",
       "      <th>1</th>\n",
       "      <td>0.0</td>\n",
       "      <td>0.123644</td>\n",
       "      <td>0.110273</td>\n",
       "      <td>0.109867</td>\n",
       "      <td>0.148028</td>\n",
       "      <td>0.090837</td>\n",
       "      <td>0.147971</td>\n",
       "      <td>0.075527</td>\n",
       "    </tr>\n",
       "    <tr>\n",
       "      <th>2</th>\n",
       "      <td>0.0</td>\n",
       "      <td>0.124761</td>\n",
       "      <td>0.113850</td>\n",
       "      <td>0.115550</td>\n",
       "      <td>0.161831</td>\n",
       "      <td>0.086320</td>\n",
       "      <td>0.166850</td>\n",
       "      <td>0.089302</td>\n",
       "    </tr>\n",
       "    <tr>\n",
       "      <th>3</th>\n",
       "      <td>0.0</td>\n",
       "      <td>0.123704</td>\n",
       "      <td>0.108781</td>\n",
       "      <td>0.104998</td>\n",
       "      <td>0.130728</td>\n",
       "      <td>0.075893</td>\n",
       "      <td>0.109152</td>\n",
       "      <td>0.052458</td>\n",
       "    </tr>\n",
       "  </tbody>\n",
       "</table>\n",
       "</div>"
      ],
      "text/plain": [
       "   FRCI        B2        B3        B4        B5        B6    B_NDVI   SAVI_.5\n",
       "0   0.0  0.120041  0.103955  0.097053  0.143030  0.072213  0.191504  0.093186\n",
       "1   0.0  0.123644  0.110273  0.109867  0.148028  0.090837  0.147971  0.075527\n",
       "2   0.0  0.124761  0.113850  0.115550  0.161831  0.086320  0.166850  0.089302\n",
       "3   0.0  0.123704  0.108781  0.104998  0.130728  0.075893  0.109152  0.052458"
      ]
     },
     "execution_count": 3,
     "metadata": {},
     "output_type": "execute_result"
    }
   ],
   "source": [
    "read_data = pd.read_excel(dir_dataframe + \"/Data_CC_CidNLine6.xlsx\")\n",
    "read_data.head(4)"
   ]
  },
  {
   "cell_type": "code",
   "execution_count": 4,
   "metadata": {},
   "outputs": [
    {
     "name": "stdout",
     "output_type": "stream",
     "text": [
      "SVR(C=10, cache_size=200, coef0=0.0, degree=3, epsilon=0.1, gamma=1,\n",
      "    kernel='rbf', max_iter=-1, shrinking=True, tol=0.001, verbose=False)\n",
      "RMSE: 0.1807438322605749 ... R2: 0.7580751484363998\n"
     ]
    }
   ],
   "source": [
    "select_col = ['B2', 'B3', 'B4', 'B5']\n",
    "select_row = 'FRCI'\n",
    "dfx = pd.DataFrame(read_data, columns=select_col)\n",
    "dfy = np.asarray(read_data[select_row])\n",
    "\n",
    "clf_model = ifapp_Mlearn.SVR_Model(dfx, dfy, tsize=0.2, rstate=5, ker='rbf')\n",
    "clf_pred = clf_model.predict(dfx)\n",
    "rmse_model = ifapp_Mlearn.Model_RMSE(dfy, clf_pred)\n",
    "r2_model = ifapp_Mlearn.Model_R2(dfy, clf_pred)\n",
    "print(clf_model)\n",
    "print('RMSE:', rmse_model, '...', 'R2:', r2_model)"
   ]
  },
  {
   "cell_type": "code",
   "execution_count": 5,
   "metadata": {},
   "outputs": [
    {
     "data": {
      "image/png": "[encoded data removed]",
      "text/plain": [
       "<Figure size 432x288 with 1 Axes>"
      ]
     },
     "metadata": {
      "needs_background": "light"
     },
     "output_type": "display_data"
    }
   ],
   "source": [
    "ifapp_Mlearn.plot_data(clf_pred, dfy)\n",
    "pkl_model_save(clf_model, (dir_save_model + '/NBand_rbf.pkl'))"
   ]
  },
  {
   "cell_type": "code",
   "execution_count": null,
   "metadata": {},
   "outputs": [],
   "source": []
  }
 ],
 "metadata": {
  "kernelspec": {
   "display_name": "Python 3",
   "language": "python",
   "name": "python3"
  },
  "language_info": {
   "codemirror_mode": {
    "name": "ipython",
    "version": 3
   },
   "file_extension": ".py",
   "mimetype": "text/x-python",
   "name": "python",
   "nbconvert_exporter": "python",
   "pygments_lexer": "ipython3",
   "version": "3.7.6"
  }
 },
 "nbformat": 4,
 "nbformat_minor": 4
}
