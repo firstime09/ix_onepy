{
 "cells": [
  {
   "cell_type": "code",
   "execution_count": 1,
   "metadata": {},
   "outputs": [],
   "source": [
    "\"\"\"Shopee Code League\"\"\"\n",
    "import pandas as pd\n",
    "\n",
    "def combine_df(df1, df2):\n",
    "    dt1 = pd.DataFrame({\"id\": df1})\n",
    "    dt2 = pd.DataFrame({\"new_number\": df2})\n",
    "    df_join = pd.concat([dt1, dt2], axis=1)\n",
    "    return df_join"
   ]
  },
  {
   "cell_type": "code",
   "execution_count": 8,
   "metadata": {},
   "outputs": [],
   "source": [
    "path_save = r\"D:\\ix_onepy\\Data\\Data Excel\"\n",
    "\n",
    "x = (0,1,2,3,4,5,6,7,8,9,10)\n",
    "for i in x:\n",
    "#     no_id = str(x.index(i))\n",
    "    dt1 = pd.DataFrame({'id': [i]})\n",
    "    dt2 = pd.DataFrame({'new_number': [i+2]})\n",
    "    combine_dt = pd.concat([dt1, dt2], axis=1)\n",
    "#     combine_dt = pd.DataFrame([combine_dt])\n",
    "#     print(combine_dt)\n",
    "combine_dt.to_excel(path_save + \"/Data SCL_T011.xlsx\")\n",
    "#     combine_dt = pd.concat([combine_dt], axis=1)\n",
    "#     print(\"index \"+ str(x.index(i)) + \":\",a)"
   ]
  },
  {
   "cell_type": "code",
   "execution_count": null,
   "metadata": {},
   "outputs": [],
   "source": [
    "path_save = r\"D:\\ix_onepy\\Data\\Data Excel\"\n",
    "combine_dt.to_excel(path_save + \"/Data SCL_T011.xlsx\")"
   ]
  },
  {
   "cell_type": "code",
   "execution_count": null,
   "metadata": {},
   "outputs": [],
   "source": [
    "path_save = r\"D:\\ix_onepy\\Data\\Data Excel\"\n",
    "\n",
    "x = (0,1,2,3,4,5,6,7,8,9,10)\n",
    "for i in x:\n",
    "#     no_id = str(x.index(i))\n",
    "    dt1 = pd.DataFrame({'id': i})\n",
    "    dt2 = pd.DataFrame({'new_number': [i]+2})\n",
    "#     combine_dt = pd.concat([dt1, dt2], axis=1)\n",
    "#     combine_dt = pd.DataFrame([combine_dt])\n",
    "    print(combine_dt)\n",
    "# combine_dt.to_excel(path_save + \"/Data SCL_T011.xlsx\")\n",
    "#     combine_dt = pd.concat([combine_dt], axis=1)\n",
    "#     print(\"index \"+ str(x.index(i)) + \":\",a)"
   ]
  }
 ],
 "metadata": {
  "kernelspec": {
   "display_name": "Python 3",
   "language": "python",
   "name": "python3"
  },
  "language_info": {
   "codemirror_mode": {
    "name": "ipython",
    "version": 3
   },
   "file_extension": ".py",
   "mimetype": "text/x-python",
   "name": "python",
   "nbconvert_exporter": "python",
   "pygments_lexer": "ipython3",
   "version": "3.7.6"
  }
 },
 "nbformat": 4,
 "nbformat_minor": 4
}
