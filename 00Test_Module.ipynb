{
 "cells": [
  {
   "cell_type": "code",
   "execution_count": 1,
   "metadata": {},
   "outputs": [],
   "source": [
    "from ifapp.love_dframe import ifapp_df\n",
    "from ifapp.analize_data import ifapp_Mlearn, ifapp_raster, rasterio\n",
    "from ifapp.love_dframe import pkl_model_load, pkl_model_save, pd, np\n",
    "from rasterio import plot"
   ]
  },
  {
   "cell_type": "code",
   "execution_count": null,
   "metadata": {},
   "outputs": [],
   "source": [
    "path_DF = r'F:\\My Drive\\Shared TIF File\\Forests2020\\Data OCI\\00Research\\File Excel'\n",
    "path_save = r'F:\\My Drive\\Shared TIF File\\Forests2020\\Data OCI\\00Research\\File Excel'\n",
    "path_Mdl = r'C:\\Users\\Felix\\ix_onepy\\Data\\Data Model'"
   ]
  },
  {
   "cell_type": "code",
   "execution_count": 2,
   "metadata": {},
   "outputs": [
    {
     "name": "stderr",
     "output_type": "stream",
     "text": [
      "D:\\ix_onepy\\ifapp\\analize_data.py:21: RuntimeWarning: invalid value encountered in true_divide\n",
      "  ndvi = (nir - red)/(nir + red)\n"
     ]
    }
   ],
   "source": [
    "\"\"\"Test Ndvi\"\"\"\n",
    "dir_raster = r'D:\\ix_onepy\\Data\\Data TIFF\\Cidanau Java\\Brick TIFF Cidanau'\n",
    "raster_nir = rasterio.open(dir_raster + '/Band_5.tif')\n",
    "raster_red = rasterio.open(dir_raster + '/Band_4.tif')\n",
    "# raster_nir.SetNoDataValue(-9999)\n",
    "# raster_nir.SetNoDataValue(-9999)\n",
    "# print(raster_nir)\n",
    "# plot.show(raster_red)\n",
    "\n",
    "ndvi_test = ifapp_raster.ras_ndvi(raster_nir, raster_red)\n",
    "savi_test = ifapp_raster.ras_savi(raster_nir, raster_red, 0.5)\n",
    "# print(ndvi_test.max(), ndvi_test.min())\n",
    "# print(savi_test.max(), savi_test.min())\n",
    "# plot.show(ndvi_test)"
   ]
  },
  {
   "cell_type": "code",
   "execution_count": null,
   "metadata": {},
   "outputs": [],
   "source": [
    "path_save = r\"G:\\My Drive\\Shared TIF File\\Forests2020\\SAHID\\FELLIKS\\TESTING FILE\\TIF TEST\\Brick Raster 2\\T1NDVI\\Result\"\n",
    "ifapp_raster.saved_data_TIF(path_save, ndvi_test, name='NDVI', ras=(dir_raster + '/band4.tif'))"
   ]
  },
  {
   "cell_type": "code",
   "execution_count": null,
   "metadata": {},
   "outputs": [],
   "source": [
    "\"\"\"Load Data Frame\"\"\"\n",
    "loadDF = pd.read_excel(path_DF + '/CC_DATA_L0607.xlsx')\n",
    "loadDF.head(4)"
   ]
  },
  {
   "cell_type": "code",
   "execution_count": null,
   "metadata": {},
   "outputs": [],
   "source": [
    "select_col = ['Band_2', 'Band_3', 'Band_4', 'Band_5']\n",
    "select_row = 'frci5m'\n",
    "dfx = pd.DataFrame(loadDF, columns=select_col)\n",
    "dfy = np.asarray(loadDF[select_row])"
   ]
  },
  {
   "cell_type": "code",
   "execution_count": null,
   "metadata": {},
   "outputs": [],
   "source": [
    "load_Mdl = pkl_model_load(path_Mdl + '/L6n7_SVRnoNDVI_rbf.pkl')\n",
    "\n",
    "\"\"\"Ajusted data from zero to one\"\"\"\n",
    "dfy_pred = load_Mdl.predict(dfx)\n",
    "dfy_pred[dfy_pred < 0] = 0.00\n",
    "dfy_pred[dfy_pred > 1] = 1.00\n",
    "Model_RMSE = ifapp_Mlearn.Model_RMSE(dfy, dfy_pred)\n",
    "Model_R2 = ifapp_Mlearn.Model_R2(dfy, dfy_pred)\n",
    "ifapp_Mlearn.plot_data(dfy_pred, dfy)\n",
    "print(\"RMSE:\", Model_RMSE, \"...\", \"R2:\", Model_R2)"
   ]
  },
  {
   "cell_type": "code",
   "execution_count": null,
   "metadata": {},
   "outputs": [],
   "source": [
    "make_new_dframe = ifapp_df.combine_dframe(dfy, dfy_pred)\n",
    "make_new_dframe.to_excel(path_save + \"/CC_L6n7_noNDVI.xlsx\")"
   ]
  },
  {
   "cell_type": "code",
   "execution_count": null,
   "metadata": {},
   "outputs": [],
   "source": []
  }
 ],
 "metadata": {
  "kernelspec": {
   "display_name": "Python 3",
   "language": "python",
   "name": "python3"
  },
  "language_info": {
   "codemirror_mode": {
    "name": "ipython",
    "version": 3
   },
   "file_extension": ".py",
   "mimetype": "text/x-python",
   "name": "python",
   "nbconvert_exporter": "python",
   "pygments_lexer": "ipython3",
   "version": "3.7.6"
  }
 },
 "nbformat": 4,
 "nbformat_minor": 4
}
