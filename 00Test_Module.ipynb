{
 "cells": [
  {
   "cell_type": "code",
   "execution_count": 1,
   "metadata": {},
   "outputs": [],
   "source": [
    "from ifapp.analize_data import gdal, np, plt, gdal_array\n",
    "from ifapp.analize_data import func_Mlearn, func_raster\n",
    "from ifapp.save_load_pkl import pkl_model_load, pkl_model_save\n",
    "\n",
    "gdal.AllRegister()\n",
    "gdal.UseExceptions()"
   ]
  },
  {
   "cell_type": "code",
   "execution_count": 2,
   "metadata": {},
   "outputs": [
    {
     "name": "stdout",
     "output_type": "stream",
     "text": [
      "SVR(C=10, cache_size=200, coef0=0.0, degree=3, epsilon=0.01, gamma=1,\n",
      "    kernel='rbf', max_iter=-1, shrinking=True, tol=0.001, verbose=False)\n"
     ]
    }
   ],
   "source": [
    "dir_raster = r\"F:\\My Drive\\Shared TIF File\\Forests2020\\SAHID\\FELLIKS\\TESTING FILE\\TIF TEST\"\n",
    "dir_model_ml = r\"Data\\Data Model\"\n",
    "load_ml_model = pkl_model_load(dir_model_ml + '/L6n7_SVRnoNDVI_rbf.pkl')\n",
    "print(load_ml_model)"
   ]
  },
  {
   "cell_type": "code",
   "execution_count": 3,
   "metadata": {},
   "outputs": [
    {
     "data": {
      "text/plain": [
       "Text(0.5, 1.0, 'DATA LandSat')"
      ]
     },
     "execution_count": 3,
     "metadata": {},
     "output_type": "execute_result"
    },
    {
     "data": {
      "image/png": "[encoded data removed]",
      "text/plain": [
       "<Figure size 432x288 with 1 Axes>"
      ]
     },
     "metadata": {
      "needs_background": "light"
     },
     "output_type": "display_data"
    }
   ],
   "source": [
    "\"\"\"If your data is breakdown you can use the nstc \"\"\"\n",
    "# load_raster_nstc = Raster_Func.stack_data(Raster_Func, input_path=dir_raster,\n",
    "#                                          name=\"_wNDVI030320\")\n",
    "load_raster_stc = gdal.Open(dir_raster + '/Brick Raster 2_wNDVI.TIF')\n",
    "img2num = func_raster.ras2num(load_raster_stc)\n",
    "plt.imshow(img2num[:, :, 2], cmap=plt.get_cmap('terrain'))\n",
    "plt.title('DATA Visualization')"
   ]
  },
  {
   "cell_type": "code",
   "execution_count": null,
   "metadata": {},
   "outputs": [],
   "source": []
  },
  {
   "cell_type": "code",
   "execution_count": 4,
   "metadata": {},
   "outputs": [
    {
     "name": "stdout",
     "output_type": "stream",
     "text": [
      "Reshaped from (1253, 1893, 6) to (2371929, 6)\n"
     ]
    }
   ],
   "source": [
    "## Prediction model with data image\n",
    "new_shape = (img2num.shape[0] * img2num.shape[1], img2num.shape[2])\n",
    "img_as_array = img2num[:, :, :6].reshape(new_shape)\n",
    "# img_as_array[np.isnan(img_as_array)] = 0\n",
    "img_as_array = np.nan_to_num(img_as_array)\n",
    "print('Reshaped from {o} to {n}'.format(o=img2num.shape, n=img_as_array.shape))"
   ]
  },
  {
   "cell_type": "code",
   "execution_count": null,
   "metadata": {},
   "outputs": [],
   "source": [
    "\n",
    "\n",
    "model2data_pred = load_ml_model.predict(img_as_array)\n",
    "model2data = model2data_pred.reshape(img[:, :, 0].shape)\n",
    "# sc = MinMaxScaler()\n",
    "# model2data_pred = sc.fit_transform(model2data)\n",
    "# model2data = model2data_pred\n",
    "model2data[model2data < 0.00] = 0.00\n",
    "model2data[model2data > 1.00] = 1.00\n",
    "final_pred = model2data * AOI ## SVR\n",
    "print(final_pred)"
   ]
  }
 ],
 "metadata": {
  "kernelspec": {
   "display_name": "Python 3",
   "language": "python",
   "name": "python3"
  },
  "language_info": {
   "codemirror_mode": {
    "name": "ipython",
    "version": 3
   },
   "file_extension": ".py",
   "mimetype": "text/x-python",
   "name": "python",
   "nbconvert_exporter": "python",
   "pygments_lexer": "ipython3",
   "version": "3.6.10"
  }
 },
 "nbformat": 4,
 "nbformat_minor": 4
}
