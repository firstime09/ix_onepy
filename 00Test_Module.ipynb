{
 "cells": [
  {
   "cell_type": "code",
   "execution_count": 9,
   "metadata": {},
   "outputs": [],
   "source": [
    "import numpy as np\n",
    "import pandas as pd\n",
    "import matplotlib.pyplot as plt\n",
    "from osgeo import gdal, gdal_array\n",
    "from Module.F17122018ML import F2020ML\n",
    "from Module.F2020_RASTER import Raster_Func\n",
    "from Module.F17122018ML import ix_model_load, ix_model_save\n",
    "\n",
    "gdal.AllRegister()\n",
    "gdal.UseExceptions()"
   ]
  },
  {
   "cell_type": "code",
   "execution_count": 10,
   "metadata": {},
   "outputs": [],
   "source": [
    "dir_raster = r\"F:\\My Drive\\Shared TIF File\\Forests2020\\Data OCI\\Result Brick\"\n",
    "dir_model_ml = r\"Data\\Data Model\""
   ]
  },
  {
   "cell_type": "code",
   "execution_count": 11,
   "metadata": {},
   "outputs": [],
   "source": [
    "\"\"\"If your data is breakdown you can use the nstc \"\"\"\n",
    "load_raster_nstc = Raster_Func.stack_data(Raster_Func, input_path=dir_raster,\n",
    "                                         name=\"_wNDVI030320\")\n",
    "load_raster_stc = gdal.Open(dir_raster + '')"
   ]
  },
  {
   "cell_type": "code",
   "execution_count": 16,
   "metadata": {},
   "outputs": [
    {
     "data": {
      "text/plain": [
       "array([[0.09973037, 0.10639194, 0.09842703, ..., 0.10441278, 0.10465414,\n",
       "        0.10484723],\n",
       "       [0.09128274, 0.10187849, 0.09958556, ..., 0.10438864, 0.10475069,\n",
       "        0.10441278],\n",
       "       [0.09014834, 0.09000353, 0.10004415, ..., 0.10511272, 0.10484723,\n",
       "        0.10484723],\n",
       "       ...,\n",
       "       [0.08558661, 0.08416259, 0.08462118, ..., 0.1307694 , 0.13006945,\n",
       "        0.13079354],\n",
       "       [0.08587625, 0.08409018, 0.08481427, ..., 0.12961087, 0.12968327,\n",
       "        0.130697  ],\n",
       "       [0.087783  , 0.08582798, 0.08382468, ..., 0.12968327, 0.13009359,\n",
       "        0.13033496]], dtype=float32)"
      ]
     },
     "execution_count": 16,
     "metadata": {},
     "output_type": "execute_result"
    }
   ],
   "source": [
    "load_data_raster.GetRasterBand(1).ReadAsArray()"
   ]
  }
 ],
 "metadata": {
  "kernelspec": {
   "display_name": "Python 3",
   "language": "python",
   "name": "python3"
  },
  "language_info": {
   "codemirror_mode": {
    "name": "ipython",
    "version": 3
   },
   "file_extension": ".py",
   "mimetype": "text/x-python",
   "name": "python",
   "nbconvert_exporter": "python",
   "pygments_lexer": "ipython3",
   "version": "3.6.10"
  }
 },
 "nbformat": 4,
 "nbformat_minor": 4
}
